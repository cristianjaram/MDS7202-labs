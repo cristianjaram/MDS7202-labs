{
 "cells": [
  {
   "cell_type": "markdown",
   "metadata": {
    "cell_id": "097fce6dce21405c911254a775ae3d26",
    "deepnote_cell_type": "markdown",
    "id": "J4_IcuuKZj9Y"
   },
   "source": [
    "<h1><center>Laboratorio 1: Git 👾</center></h1>\n",
    "\n",
    "<center><strong>MDS7202: Laboratorio de Programación Científica para Ciencia de Datos - Primavera 2025</strong></center>"
   ]
  },
  {
   "cell_type": "markdown",
   "metadata": {
    "cell_id": "9e8e8f2ae34e461da4f44508a96d2cf4",
    "deepnote_cell_type": "markdown",
    "id": "AEXIACc7aADv"
   },
   "source": [
    "### Cuerpo Docente:\n",
    "\n",
    "- Profesores: Diego Cortez, Gabriel Iturra\n",
    "- Auxiliares: Melanie Peña, Valentina Rojas\n",
    "- Ayudantes: Nicolás Cabello, Cristopher Urbina"
   ]
  },
  {
   "cell_type": "markdown",
   "metadata": {
    "cell_id": "3e5b48c23e1b48f6a64de41899166179",
    "deepnote_cell_type": "markdown",
    "id": "0HgMMyoCaG8X"
   },
   "source": [
    "### Equipo: **SUPER IMPORTANTE - notebooks sin nombre no serán revisados**\n",
    "\n",
    "- Nombre de alumno 1: Felipe Fierro\n",
    "- Nombre de alumno 2: Cristian Jara"
   ]
  },
  {
   "cell_type": "markdown",
   "metadata": {
    "cell_id": "1db7c82b68614d19b112ba3b0d0abe4d",
    "deepnote_cell_type": "markdown",
    "id": "fz77X6glaK6y"
   },
   "source": [
    "### **Link de repositorio de GitHub:** [Insertar Enlace](https://github.com/cristianjaram/MDS7202-labs)\n",
    "\n",
    "https://github.com/cristianjaram/MDS7202-labs"
   ]
  },
  {
   "cell_type": "markdown",
   "metadata": {
    "cell_id": "bc3dac65089d4ae6a43c079547dee179",
    "deepnote_cell_type": "markdown",
    "id": "rRwqaxIZaNx3"
   },
   "source": [
    "## Reglas:\n",
    "\n",
    "- **Grupos de 2 personas**\n",
    "- Fecha de entrega: Entregas Martes a las 23:59.\n",
    "- Instrucciones del lab el viernes a las 16:15 en formato online. Asistencia no es obligatoria, pero se recomienda **fuertemente** asistir.\n",
    "- <u>Prohibidas las copias</u>. Cualquier intento de copia será debidamente penalizado con el reglamento de la escuela.\n",
    "- Tienen que subir el laboratorio a u-cursos y a su repositorio de github. Labs que no estén en u-cursos no serán revisados. Recuerden que el repositorio también tiene nota.\n",
    "- Cualquier duda fuera del horario de clases al foro. Mensajes al equipo docente serán respondidos por este medio.\n",
    "- Pueden usar cualquier material del curso que estimen conveniente."
   ]
  },
  {
   "cell_type": "markdown",
   "metadata": {
    "cell_id": "05e4729411a24153837fd13b7f198bd9",
    "deepnote_cell_type": "markdown",
    "id": "bmToL27JaSrf"
   },
   "source": [
    "## Objetivos del lab:\n",
    "\n",
    "\n",
    "- Conocer los elementos básicos que conformar `Git`\n",
    "- Clonar repositorios\n",
    "- Identificar ramas de un repositorio\n",
    "- Reconocer y solucionar problemas entre ramas\n",
    "- Subir cambios a un repositorio"
   ]
  },
  {
   "cell_type": "markdown",
   "metadata": {
    "cell_id": "5ebae9d601bd4d508349ab55297e9f82",
    "deepnote_cell_type": "markdown",
    "id": "bvnPCvrVbJLK"
   },
   "source": [
    "## Parte 1: Conocimiento Teórico (2.5 pts)\n",
    "\n",
    "<p align=\"center\">\n",
    "  <img src=\"https://cdn.thedesigninspiration.com/wp-content/uploads/sites/3/2019/04/macintosh-hdusersbrittanyloefflerdownloadsanig-1.gif\" width=\"350\">\n",
    "</p>"
   ]
  },
  {
   "cell_type": "markdown",
   "metadata": {
    "cell_id": "627494dba4f84520b3ee8b9cbf58ee79",
    "deepnote_cell_type": "markdown",
    "id": "JHl-24XnbNLF"
   },
   "source": [
    "Responda las siguientes preguntas (0.2 pts c/u):\n",
    "\n",
    "1. ¿Qué es `Git` y cómo se relaciona con el control de versiones?\n",
    "\n",
    "2. Nombre y explique 3 diferencias entre `Git` y `Github`.\n",
    "\n",
    "3. ¿Qué es un `hash` y cómo se representa en un `commit`? De un ejemplo.\n",
    "\n",
    "4. ¿Que elementos componen a la estructura de datos de `Git`?\n",
    "\n",
    "5. ¿Que comandos de `Git` sirven para crear un repositorio y hacer seguimiento a cambios en los archivos?"
   ]
  },
  {
   "cell_type": "markdown",
   "metadata": {},
   "source": [
    "<code>Escriba sus respuestas acá:</code>\n",
    "\n",
    "**1.** Git es un sistema de control de versiones (VCS) el cual permite rastrear y gestionar cambios en archivos a lo largo del desarrollo de cualquier proyecto. Se relaciona con control de versiones porque mantiene un historial de cambios realizados, permite trabajar con multiples versiones del proyecto (ramas), facilita colaboración en equipos de desarrollo y ofrece capacidades de volver atrás (revertir), comparar versiones y fusionar modificaciones (merge).\n",
    "\n",
    "**2.** \n",
    "- Su naturaleza: Git es un software de control de versiones que se ejecuta localmente, mientras que github es una plataforma web en la nube que hospeda respositorios de git.\n",
    "- Funcionalidad: Git maneja el versionado y control de cambions, mientras que github añade funciones colaborativas, como pull requests(PR), issues o wikis.\n",
    "- Accesibilidad: Git funciona completamente offline en nuestro computador, mientras que github requiere conexión a internet para acceder a repositorios remotos y características colaborativas.\n",
    "\n",
    "**3.** \n",
    "Un hash en Git es un identificador único generado mediante SHA-1 que identifica de forma inequívoca cada commit. Es una cadena de 40 caracteres hexadecimales que representa el contenido exacto del commit.\n",
    "\n",
    "Ejemplo: `a1b2c3d4e5f6789012345678901234567890abcd`\n",
    "\n",
    "**4.**\n",
    "Los principales elementos son:\n",
    "- **Blob**: Almacena el contenido de los archivos\n",
    "- **Tree**: Representa directorios y contiene referencias a blobs y otros trees\n",
    "- **Commit**: Contiene metadatos (autor, fecha, mensaje) y apunta a un tree específico\n",
    "- **Tag**: Referencias a commits específicos, generalmente para marcar versiones\n",
    "- **Branch**: Punteros móviles a commits específicos\n",
    "- **HEAD**: Puntero que indica en qué commit/rama estás trabajando actualmente\n",
    "\n",
    "**5.**\n",
    "Para crear repositorio:\n",
    "- `git init` - Inicializa un nuevo repositorio local\n",
    "- `git clone <url>` - Clona un repositorio existente\n",
    "\n",
    "Para hacer seguimiento de cambios:\n",
    "- `git add <archivo>` - Añade archivos al área de preparación (staging)\n",
    "- `git commit -m \"mensaje\"` - Guarda los cambios en el historial\n",
    "- `git status` - Muestra el estado actual de los archivos\n",
    "- `git log` - Muestra el historial de commits\n",
    "- `git diff` - Muestra las diferencias entre versiones"
   ]
  },
  {
   "cell_type": "markdown",
   "metadata": {
    "cell_id": "ec9855406e324cc98b59e33500faea84",
    "deepnote_cell_type": "markdown",
    "id": "MACccbP4gU43"
   },
   "source": [
    "Responda si las siguientes afirmaciones son Verdaderas (V) o Falsas (F). Justifique en **cualquiera** de los casos (0.2 pts c/u):\n",
    "\n",
    "\n",
    "6. `Git` siempre resuelve automáticamente los problemas de lineas al hacer merge entre diferentes ramas.\n",
    "7. Ejecutar `git pull` sobre un repositorio es equivalente a ejecutar `git clone`.\n",
    "8. `git status` genera los mismos resultados que `git log`.\n",
    "9. En `Git` es posible deshacer cambios y volver a versiones anteriores del código.\n",
    "10. El comando `git commit` se utiliza para enviar cambios al repositorio remoto."
   ]
  },
  {
   "cell_type": "markdown",
   "metadata": {
    "cell_id": "7e6a5a6e15b045cc9d104cf017825f1a",
    "deepnote_cell_type": "markdown",
    "id": "DFnmCToOgeM3"
   },
   "source": [
    "<code>Escriba sus respuestas acá:</code>\n",
    "\n",
    "**6.** F, Git puede resolver automáticamente muchos conflictos simples, pero cuando hay conflictos complejos (por ejemplo, cambios en las mismas líneas por diferentes personas), Git requiere intervención manual para resolverlos.\n",
    "\n",
    "**7.** F, git clone descarga un repositorio completo por primera vez, mientras que git pull actualiza un repositorio existente con los últimos cambios del remoto. \n",
    "\n",
    "**8.** F, git status muestra el estado actual de los archivos (modificados, en staging, etc.), mientras que git log muestra el historial de commits realizados.\n",
    "\n",
    "**9.** V, Git permite revertir cambios usando comandos como git reset, git revert o git checkout a commits específicos.\n",
    "\n",
    "**10.** F, git commit guarda cambios localmente y para enviar al repositorio remoto se usa git push."
   ]
  },
  {
   "cell_type": "markdown",
   "metadata": {
    "cell_id": "54317cad024744ebaf4938df55ba3b95",
    "deepnote_cell_type": "markdown",
    "id": "LYq55sI2Rjf0"
   },
   "source": [
    "Por último, investigue y comente con sus palabras para qué sirven los siguientes comandos:\n",
    "\n",
    "11. `git stash` (0.25 puntos) \n",
    "    Esto permite \"guardar temporalmente\" cambios que no están listos para commit. Es útil si se necesitase cambiar de rama rápidamente pero hay trabajo en progreso, los cambios se guardan en estructura de pila y se recuperan usando `git stash pop`\n",
    "12. `git reset`. ¿Cuál es la diferencia de este comando con `git revert`?. (0.25 puntos)\n",
    "    - git reset mueve el puntero HEAD a un commit anterior, eliminando commits del historial. Es como \"borrar\" commits.\n",
    "    - git revert crea un nuevo commit que deshace los cambios de un commit específico, manteniendo el historial intacto. Es más seguro para repositorios compartidos.\n",
    "    `git revert` es mucho más seguro porque no elimina commits si no que se continua desarrollando en un estado anterior, pero en caso de error siempre se puede volver a un par de commits atrás al estado antes de aplicar `git revert`"
   ]
  },
  {
   "cell_type": "markdown",
   "metadata": {
    "cell_id": "3e4d8b9974e4426ca38fd20f4b835a55",
    "deepnote_cell_type": "markdown",
    "id": "i7Em9JkbbRLo"
   },
   "source": [
    "## Parte 2: Creando una presentación personal (1.5 pts)\n",
    "\n",
    "<p align=\"center\">\n",
    "  <img src=\"https://media.tenor.com/arqlNu8gyJYAAAAC/cat-cat-jumping.gif\" width=\"150\">\n",
    "</p>\n",
    "\n"
   ]
  },
  {
   "cell_type": "markdown",
   "metadata": {
    "cell_id": "988648005dba4b9782c6625dfe6ae4ef",
    "deepnote_cell_type": "markdown",
    "id": "XWIHfyrlbYOJ"
   },
   "source": [
    "Para empezar a \"*soltar las manos*\" con `Git`, se les encomienda crear un repositorio con una presentación personal. El repositorio debe contener un breve resumen de quienes son ustedes, sus gustos, experiencias, y cualquier otro detalle interesante que ustedes consideren relevante.\n",
    "\n",
    "Para realizar esto, deben seguir los siguientes pasos:\n",
    "\n",
    "1. Contar con una cuenta de github (1 por persona)\n",
    "2. Crear un repositorio con su nombre de usuario\n",
    "3. Vincular el repositorio a su ambiente local ¿Qué comando(s) me permiten hacer esto?\n",
    "4. Crear un archivo `readme.md` con la información que ustedes deseen compartir.\n",
    "5. Realizar `push` con los cambios generados\n",
    "\n",
    "\n",
    "**Nota: Deben trabajar todos estos puntos desde su ambiente local**\n",
    "\n",
    "*Hint: Una buena opción es usar templates de presentación personal que encuentren en Google, como los que ofrece este [sitio](https://durgeshsamariya.github.io/awesome-github-profile-readme-templates/#/)*.\n",
    "\n",
    "**Entregable:**\n",
    "\n",
    "Enlace al repositorio con la presentación personal.\n",
    "\n",
    "IMPORTANTE: DEBEN ADJUNTAR UN ENLACE POR PERSONA"
   ]
  },
  {
   "cell_type": "markdown",
   "metadata": {
    "cell_id": "081b38d55dc54282bc8e3cd300ce9d3e",
    "deepnote_cell_type": "markdown",
    "id": "IIkWyl9tf0Sg"
   },
   "source": [
    "<code>Link Presentacion 1:</code> https://github.com/cristianjaram/cristianjaram - Cristian\n",
    "\n",
    "<code>Link Presentacion 2:</code> https://github.com/felipe55694/felipe55694 - Felipe"
   ]
  },
  {
   "cell_type": "markdown",
   "metadata": {
    "cell_id": "0481a05d2d1a46928f6cfb7762720980",
    "deepnote_cell_type": "markdown",
    "id": "CAzXOwvDY-IG"
   },
   "source": [
    "## Parte 3: Trabajando sobre un repositorio externo (2 pts)\n",
    "\n",
    "<p align=\"center\">\n",
    "  <img src=\"https://media.tenor.com/YXL-0SK15j4AAAAC/dance-animals.gif\" width=\"300\">\n",
    "</p>\n",
    "\n",
    "Tras muchos dolores de cabeza, un grupo de entusiastas académicos decidieron aprender sobre `Git` y así trabajar colaborativamente de forma más ordenada y eficiente. Después de una infinidad de intentos y aprender de sus errores \"*a la mala*\", los académicos lograron levantar un [repositorio](https://github.com/MDS7202/lab1) en `Github`. Usando el repositorio de los académicos, responda las siguientes preguntas (**incluya también los comandos en `Git` ocupados**):\n"
   ]
  },
  {
   "cell_type": "markdown",
   "metadata": {
    "cell_id": "bcef73b2e8604579bde90ed6622abfe9",
    "deepnote_cell_type": "markdown",
    "id": "BFRnAw0rfguR"
   },
   "source": [
    "1. Clone el repositorio a su ambiente local. (0.25 pts)"
   ]
  },
  {
   "cell_type": "markdown",
   "metadata": {
    "cell_id": "5d126ac3819c44479af94d3895bc4c97",
    "deepnote_cell_type": "markdown",
    "id": "KXro32yBeilN"
   },
   "source": [
    "<code>Escriba sus respuestas acá:</code>\n",
    "\n",
    "git clone https://github.com/MDS7202/lab1.git"
   ]
  },
  {
   "cell_type": "markdown",
   "metadata": {
    "cell_id": "e215e4e25b2440f09ac273ba63603986",
    "deepnote_cell_type": "markdown",
    "id": "8QB-GKmQRjf1"
   },
   "source": [
    "2. Descomprima los archivos subidos con la tarea en U-cursos en la carpeta recién clonada de github. Una vez realizado esto, cree un archivo `.gitignore` con el cual omita la carpeta `videos` y los archivos con la extensión `.txt` exceptuando el archivo `171.txt` de la carpeta `texts`. (0.25 pts)"
   ]
  },
  {
   "cell_type": "markdown",
   "metadata": {
    "cell_id": "186233b44d004e3bbd86262d010188b5",
    "deepnote_cell_type": "markdown",
    "id": "7VJ8IIYpRjf1"
   },
   "source": [
    "<code>Para esta pregunta usted deberá adjuntar el .gitignore creado en su repo.</code>\n",
    "\n",
    "Ignorar todos los .txt en texts\n",
    "texts/*.txt\n",
    "\n",
    "Excepto 171.txt\n",
    "!texts/171.txt\n",
    "\n",
    "Ignorar todos los videos\n",
    "videos/"
   ]
  },
  {
   "cell_type": "markdown",
   "metadata": {
    "cell_id": "1de150590a41484a988b8e46616a2324",
    "deepnote_cell_type": "markdown",
    "id": "q2qmiDyjt2M_"
   },
   "source": [
    "3. Inspeccione brevemente el repositorio: ¿Cual es el objetivo del proyecto? Explique brevemente la estructura del proyecto, asi como también cada elemento que lo conforma. (0.25 pts)"
   ]
  },
  {
   "cell_type": "markdown",
   "metadata": {
    "cell_id": "082ca01c865e48e28352b280400c47b6",
    "deepnote_cell_type": "markdown",
    "id": "aBHpR8VTftkT"
   },
   "source": [
    "<code>Escriba sus respuestas acá:</code>\n",
    "\n",
    "tienen funciones que buscan indentificar los sonidos que hace un animal. Por ejemplo si se le entrega un \"perro\" se obtiene \"guau\""
   ]
  },
  {
   "cell_type": "markdown",
   "metadata": {
    "cell_id": "3aab4a3ee0c246e1be955680ad653fb8",
    "deepnote_cell_type": "markdown",
    "id": "XFwqcpLZfylf"
   },
   "source": [
    "4. Identifique los últimos cambios al repositorio, reconociendo las principales ramas de trabajo. ¿Son informativos los `commit` realizados? (0.25 pts)\n",
    "*Hint: Se recomienda usar los argumentos `all`, `graph` y `decorate`*"
   ]
  },
  {
   "cell_type": "markdown",
   "metadata": {
    "cell_id": "0fab79a360ac4c6a9ca0ab884f85c7e1",
    "deepnote_cell_type": "markdown",
    "id": "cmWfXBkOhog0"
   },
   "source": [
    "<code>Escriba sus respuestas acá:</code>\n",
    "\n",
    "Los commit son informativos porque indican qué cambios fueron realizados en el proyecto.\n",
    "\n",
    "PS C:\\Users\\claud\\OneDrive\\Escritorio\\MDS Lab\\lab1> git log --all\n",
    "commit 25543a3baf77292baf849726784ca005473acab1 (origin/fix-ifs)\n",
    "Author: Pablo Badilla <pbadilla.torrealba@gmail.com>\n",
    "Date:   Thu Mar 23 22:50:49 2023 -0300\n",
    "\n",
    "    fix ifs\n",
    "\n",
    "commit 362fe21ee44f53ee944cee4ba484600308f83d78 (HEAD -> main, origin/new_features, origin/main, origin/HEAD)\n",
    "Author: mezosky <ignacio.meza@ug.uchile.cl>\n",
    "Date:   Thu Mar 23 21:47:34 2023 -0300\n",
    "\n",
    "    Se separa el proyecto en modulos\n",
    "\n",
    "commit c8b1a62d7299552b0654f930d695b33109214111\n",
    "Author: seba <stinoco@fen.uchile.cl>\n",
    "Date:   Wed Mar 22 17:28:19 2023 -0300\n",
    "\n",
    "    se agrega funcion\n",
    "\n",
    "commit b262d86411a6b017e99bf0731e33a6787739247c\n",
    "Author: seba <stinoco@fen.uchile.cl>\n",
    "Date:   Wed Mar 22 17:25:30 2023 -0300\n",
    "\n",
    "    primer commit"
   ]
  },
  {
   "cell_type": "markdown",
   "metadata": {
    "cell_id": "d07b24d21f2343fb9a7e6a5db74e98c3",
    "deepnote_cell_type": "markdown",
    "id": "Vqbj9HdXrUnN"
   },
   "source": [
    "5. Uno de los académicos se da cuenta que la rama principal de trabajo no se ejecuta correctamente para todos los argumentos. Señale y explique el error en el código e identifique a la persona que lo cometió usando `git blame` (0.25 pts)\n",
    "\n",
    "*Hint: Le puede ser útil esta [documentación](https://www.atlassian.com/es/git/tutorials/inspecting-a-repository/git-blame).*"
   ]
  },
  {
   "cell_type": "markdown",
   "metadata": {
    "cell_id": "bc5b0f9c639643108f8e66687b721732",
    "deepnote_cell_type": "markdown",
    "id": "5ajhV2Iar3tV"
   },
   "source": [
    "<code>Escriba sus respuestas acá:</code>\n",
    "\n",
    "Se puede ver que las funciones están mal definidas por los inputs que reciben\n",
    "\n",
    "PS C:\\Users\\claud\\OneDrive\\Escritorio\\MDS Lab\\lab1> git blame animales.py               \n",
    "362fe21e (mezosky 2023-03-23 21:47:34 -0300  1) def animales(input):\n",
    "362fe21e (mezosky 2023-03-23 21:47:34 -0300  2)     \n",
    "362fe21e (mezosky 2023-03-23 21:47:34 -0300  3)     '''\n",
    "362fe21e (mezosky 2023-03-23 21:47:34 -0300  4)     Como hace el animalito?\n",
    "362fe21e (mezosky 2023-03-23 21:47:34 -0300  5)     '''\n",
    "362fe21e (mezosky 2023-03-23 21:47:34 -0300  6)\n",
    "362fe21e (mezosky 2023-03-23 21:47:34 -0300  7)     if input.lower() == 'gato':\n",
    "362fe21e (mezosky 2023-03-23 21:47:34 -0300  8)         print('miau')\n",
    "362fe21e (mezosky 2023-03-23 21:47:34 -0300  9)     if input.lower() == 'perro':\n",
    "362fe21e (mezosky 2023-03-23 21:47:34 -0300 10)         print('guau')\n",
    "362fe21e (mezosky 2023-03-23 21:47:34 -0300 11)     if input.lower() == 'fox':\n",
    "362fe21e (mezosky 2023-03-23 21:47:34 -0300 12)         print('https://www.youtube.com/watch?v=jofNR_WkoCE')\n",
    "362fe21e (mezosky 2023-03-23 21:47:34 -0300 13)     else:\n",
    "362fe21e (mezosky 2023-03-23 21:47:34 -0300 14)         raise ValueError('animal no reconocido :(')\n",
    "\n",
    "\n",
    "PS C:\\Users\\claud\\OneDrive\\Escritorio\\MDS Lab\\lab1> git blame main.py\n",
    "362fe21e (mezosky 2023-03-23 21:47:34 -0300 1) from animales import animales\n",
    "c8b1a62d (seba    2023-03-22 17:28:19 -0300 2)\n",
    "^b262d86 (seba    2023-03-22 17:25:30 -0300 3) if __name__ == '__main__':\n",
    "^b262d86 (seba    2023-03-22 17:25:30 -0300 4)     print(\"Ingrese el animalito para saber que dice:\")\n",
    "^b262d86 (seba    2023-03-22 17:25:30 -0300 5)     animal = input()\n",
    "362fe21e (mezosky 2023-03-23 21:47:34 -0300 6)     animales(animal)"
   ]
  },
  {
   "cell_type": "markdown",
   "metadata": {
    "cell_id": "f3f4e78e6d9145ebbb120c0a2e4aade6",
    "deepnote_cell_type": "markdown",
    "id": "m8J3uE7MhqTA"
   },
   "source": [
    "6. Busque los siguientes `commit`:\n",
    "\n",
    "- `c8b1a62d7299552b0654f930d695b33109214111`\n",
    "- `362fe21ee44f53ee944cee4ba484600308f83d78`\n",
    "- `25543a3baf77292baf849726784ca005473acab1`\n",
    "\n",
    "¿Qué diferencias existen entre cada uno? (0.25 pts)\n",
    "\n",
    "Usamos git show:\n",
    "\n",
    "En el primero se modifica la función animales en main.\n",
    "En el segundo se separa el proyecto en modulos.\n",
    "En el tercero se realizan arreglos en los condicionales if que se cambian por elif\n",
    "\n",
    "git show 362fe21ee44f53ee944cee4ba484600308f83d78\n",
    "\n",
    "git show 25543a3baf77292baf849726784ca005473acab1\n",
    "\n",
    "Por ejemplo, para el primero:\n",
    "\n",
    "PS C:\\Users\\claud\\OneDrive\\Escritorio\\MDS Lab\\lab1> git show c8b1a62d7299552b0654f930d695b33109214111\n",
    "commit c8b1a62d7299552b0654f930d695b33109214111\n",
    "Author: seba <stinoco@fen.uchile.cl>\n",
    "Date:   Wed Mar 22 17:28:19 2023 -0300\n",
    "\n",
    "    se agrega funcion\n",
    "\n",
    "diff --git a/main.py b/main.py\n",
    "index 994e699..a4484fb 100644\n",
    "--- a/main.py\n",
    "+++ b/main.py\n",
    "@@ -1,4 +1,19 @@\n",
    "+def animales(input):\n",
    "+    \n",
    "+    '''\n",
    "+    Como hace el animalito?\n",
    "+    '''\n",
    "+    \n",
    "+    if input.lower() == 'gato':\n",
    "+        print('miau')\n",
    "+    if input.lower() == 'perro':\n",
    "+        print('guau')\n",
    "+    if input.lower() == 'fox':\n",
    "+        print('https://www.youtube.com/watch?v=jofNR_WkoCE')\n",
    "+    else:\n",
    "+        raise ValueError('animal no reconocido :(')\n",
    "+\n",
    " if __name__ == '__main__':\n",
    "     print(\"Ingrese el animalito para saber que dice:\")\n",
    "     animal = input()\n",
    "-    # agregar funcion"
   ]
  },
  {
   "cell_type": "markdown",
   "metadata": {
    "cell_id": "696ed361ac0c41c8a214cfad9dcb39e6",
    "deepnote_cell_type": "markdown",
    "id": "sNHnZsgIitGh"
   },
   "source": [
    "<code>Escriba sus respuestas acá:</code>"
   ]
  },
  {
   "cell_type": "markdown",
   "metadata": {
    "cell_id": "b4e18f8ce94c430f85915c4e2732d05b",
    "deepnote_cell_type": "markdown",
    "id": "WQIPbfNCgpxC"
   },
   "source": [
    "7. Realice una `merge` de la rama `fix-ifs` con la rama `main` y describa lo que ocurre. ¿Qué parte del código podría estar ocasionando esto? (0.25 pts)"
   ]
  },
  {
   "cell_type": "markdown",
   "metadata": {
    "cell_id": "36da6a0d4f4a427bbccac09e2ae965fd",
    "deepnote_cell_type": "markdown",
    "id": "ypH_6lL5ioZz"
   },
   "source": [
    "<code>Escriba sus respuestas acá:</code>\n",
    "\n",
    "git checkout main\n",
    "\n",
    "git merge fix-ifs\n"
   ]
  },
  {
   "cell_type": "markdown",
   "metadata": {
    "cell_id": "09787ab449c543479e5cc54c2a3b6c19",
    "deepnote_cell_type": "markdown",
    "id": "GYfODCjeivkU"
   },
   "source": [
    "8. Cree una rama nueva y proponga una solución al problema anterior, adjuntando el código corregido y señalando las líneas modificadas. (0.25 pts)"
   ]
  },
  {
   "cell_type": "markdown",
   "metadata": {
    "cell_id": "6d963fba3f2d4c17a4b281c7d3f4fb8b",
    "deepnote_cell_type": "markdown",
    "id": "8heBxDU9iziT"
   },
   "source": [
    "<code>Escriba sus respuestas acá:</code>"
   ]
  },
  {
   "cell_type": "markdown",
   "metadata": {
    "cell_id": "8a47d4bf8b3045d68e4f29bb449c87f1",
    "deepnote_cell_type": "markdown",
    "id": "Av8ebB9jkALO"
   },
   "source": [
    "## Fin"
   ]
  },
  {
   "cell_type": "markdown",
   "metadata": {
    "cell_id": "cec4b53942ed489f8f8b63d0e9d4f3e5",
    "deepnote_cell_type": "markdown",
    "id": "aQqZT9fSkBK8"
   },
   "source": [
    "Eso ha sido todo por ahora!! Esperamos que este laboratorio les haya gustado y servido para trabajar con `Git`. Recuerden los dias de plazo que tienen disponibles y que ante cualquier duda no duden en contactar al equipo docente.\n",
    "\n",
    "Nos vemos!!\n",
    "\n",
    "<p align=\"center\">\n",
    "  <img src=\"https://media.tenor.com/OYLdav9k9LkAAAAd/kitty-cat.gif\" width=\"350\">\n",
    "</p>\n"
   ]
  }
 ],
 "metadata": {
  "colab": {
   "provenance": []
  },
  "deepnote_execution_queue": [],
  "deepnote_notebook_id": "62cd20d52b9a4810ada15644630456dc",
  "kernelspec": {
   "display_name": "base",
   "language": "python",
   "name": "python3"
  },
  "language_info": {
   "name": "python",
   "version": "3.11.7"
  }
 },
 "nbformat": 4,
 "nbformat_minor": 0
}
